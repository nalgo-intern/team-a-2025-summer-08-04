{
  "nbformat": 4,
  "nbformat_minor": 0,
  "metadata": {
    "colab": {
      "provenance": [],
      "authorship_tag": "ABX9TyNDNMtquv/ZtGExRExervIh",
      "include_colab_link": true
    },
    "kernelspec": {
      "name": "python3",
      "display_name": "Python 3"
    },
    "language_info": {
      "name": "python"
    }
  },
  "cells": [
    {
      "cell_type": "markdown",
      "metadata": {
        "id": "view-in-github",
        "colab_type": "text"
      },
      "source": [
        "<a href=\"https://colab.research.google.com/github/nalgo-intern/team-a-2025-summer-08-04/blob/main/MNIST_2%E6%A1%81.ipynb\" target=\"_parent\"><img src=\"https://colab.research.google.com/assets/colab-badge.svg\" alt=\"Open In Colab\"/></a>"
      ]
    },
    {
      "cell_type": "code",
      "execution_count": 1,
      "metadata": {
        "colab": {
          "base_uri": "https://localhost:8080/"
        },
        "id": "gvUtRLuhXpV2",
        "outputId": "d247afd3-2169-4363-ad7d-8984fe086411"
      },
      "outputs": [
        {
          "output_type": "stream",
          "name": "stderr",
          "text": [
            "100%|██████████| 9.91M/9.91M [00:00<00:00, 35.4MB/s]\n",
            "100%|██████████| 28.9k/28.9k [00:00<00:00, 1.06MB/s]\n",
            "100%|██████████| 1.65M/1.65M [00:00<00:00, 9.51MB/s]\n",
            "100%|██████████| 4.54k/4.54k [00:00<00:00, 4.90MB/s]\n"
          ]
        }
      ],
      "source": [
        "import os\n",
        "import random\n",
        "from torchvision import datasets\n",
        "from PIL import Image\n",
        "from tqdm import tqdm\n",
        "\n",
        "# 出力先\n",
        "output_root = './two_digit_28x28'\n",
        "os.makedirs(output_root, exist_ok=True)\n",
        "\n",
        "# MNISTロード\n",
        "mnist = datasets.MNIST(root='./mnist', train=True, download=True)\n",
        "digit_images = {i: [] for i in range(10)}\n",
        "\n",
        "# 数字ごとに分類\n",
        "for img, label in mnist:\n",
        "    digit_images[label].append(img)\n",
        "\n",
        "# 2桁（00〜99）× 各100パターン\n",
        "for tens in range(10):\n",
        "    for ones in range(10):\n",
        "        label = f\"{tens}{ones}\"\n",
        "        save_dir = os.path.join(output_root, label)\n",
        "        os.makedirs(save_dir, exist_ok=True)\n",
        "\n",
        "        for i in range(100):\n",
        "            # ランダムに2枚選ぶ\n",
        "            left = random.choice(digit_images[tens])\n",
        "            right = random.choice(digit_images[ones])\n",
        "\n",
        "            # Pillow >=10.0 の対応（LANCZOSで高品質にリサイズ）\n",
        "            left_resized = left.resize((14, 28), resample=Image.Resampling.LANCZOS)\n",
        "            right_resized = right.resize((14, 28), resample=Image.Resampling.LANCZOS)\n",
        "\n",
        "            # 28×28キャンバスに合成\n",
        "            combined = Image.new('L', (28, 28), color=0)\n",
        "            combined.paste(left_resized, (0, 0))\n",
        "            combined.paste(right_resized, (14, 0))\n",
        "\n",
        "            # 保存\n",
        "            filename = f\"{label}_{i:03}.png\"\n",
        "            combined.save(os.path.join(save_dir, filename))\n"
      ]
    },
    {
      "cell_type": "code",
      "source": [
        "# 画像を確認する例\n",
        "from PIL import Image\n",
        "import matplotlib.pyplot as plt\n",
        "\n",
        "img = Image.open('./two_digit_28x28/21/21_001.png')\n",
        "plt.imshow(img, cmap='gray')\n",
        "plt.title(\"Label: 21\")\n",
        "plt.axis('off')\n",
        "plt.show()"
      ],
      "metadata": {
        "colab": {
          "base_uri": "https://localhost:8080/",
          "height": 428
        },
        "id": "GZho9UA9uhCi",
        "outputId": "272e4c11-0be8-449d-e946-8b53dd5d0e9c"
      },
      "execution_count": 2,
      "outputs": [
        {
          "output_type": "display_data",
          "data": {
            "text/plain": [
              "<Figure size 640x480 with 1 Axes>"
            ],
            "image/png": "[encoded data removed]"
          },
          "metadata": {}
        }
      ]
    },
    {
      "cell_type": "code",
      "source": [
        "import shutil\n",
        "shutil.make_archive('two_digit_28x28', 'zip', 'two_digit_28x28')"
      ],
      "metadata": {
        "colab": {
          "base_uri": "https://localhost:8080/",
          "height": 35
        },
        "id": "Yz5ytIFUuk_L",
        "outputId": "9e374020-2b28-45dd-9273-5820f0ab327c"
      },
      "execution_count": 3,
      "outputs": [
        {
          "output_type": "execute_result",
          "data": {
            "text/plain": [
              "'/content/two_digit_28x28.zip'"
            ],
            "application/vnd.google.colaboratory.intrinsic+json": {
              "type": "string"
            }
          },
          "metadata": {},
          "execution_count": 3
        }
      ]
    }
  ]
}