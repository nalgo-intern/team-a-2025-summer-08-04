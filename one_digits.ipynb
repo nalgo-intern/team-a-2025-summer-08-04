{
  "cells": [
    {
      "cell_type": "markdown",
      "metadata": {
        "colab_type": "text",
        "id": "view-in-github"
      },
      "source": [
        "<a href=\"https://colab.research.google.com/github/nalgo-intern/team-a-2025-summer-08-04/blob/ryotaro_branch/one_digits.ipynb\" target=\"_parent\"><img src=\"https://colab.research.google.com/assets/colab-badge.svg\" alt=\"Open In Colab\"/></a>"
      ]
    },
    {
      "cell_type": "code",
      "execution_count": null,
      "metadata": {
        "id": "w8RlokvPrvk-"
      },
      "outputs": [],
      "source": [
        "import os\n",
        "import pathlib\n",
        "\n",
        "import numpy as np\n",
        "import pandas as pd\n",
        "\n",
        "\n",
        "import matplotlib\n",
        "import matplotlib.pyplot as plt\n",
        "%matplotlib inline"
      ]
    },
    {
      "cell_type": "code",
      "execution_count": null,
      "metadata": {},
      "outputs": [],
      "source": [
        "import tensorflow as tf\n",
        "from tf.keras.datasets import mnist\n",
        "#from datasets import mnist\n",
        "#from tensorflow.keras.datasets import mnist\n",
        "import numpy as np\n",
        "from scipy.ndimage import zoom\n",
        "\n",
        "def make_double_images(images, labels, num_samples):\n",
        "    double_images = []\n",
        "    double_labels = []\n",
        "\n",
        "    for _ in range(num_samples):\n",
        "        idx1 = np.random.randint(0, len(images))\n",
        "        idx2 = np.random.randint(0, len(images))\n",
        "\n",
        "        img1 = images[idx1]\n",
        "        img2 = images[idx2]\n",
        "\n",
        "        combined = np.concatenate([img1, img2], axis=1)  # 横に結合（28x56）\n",
        "        resized = zoom(combined, (1.0, 0.5))              # 横を0.5倍にして28x28に\n",
        "        resized = resized / 255.0                         # 正規化\n",
        "\n",
        "        double_images.append(resized)\n",
        "        double_labels.append(labels[idx1]*10 + labels[idx2]) #ラベルを二桁に\n",
        "####\n",
        "#二桁を分割して28*14にする場合は、のちのモデルを書き換え、学習済みモデルを作る必要がある。\n",
        "####\n",
        "    return np.array(double_images), np.array(double_labels)\n",
        "\n",
        "def load_double_data(num_train_samples=90000, num_test_samples=10000):\n",
        "    (x_train, y_train), (x_test, y_test) = mnist.load_data()\n",
        "\n",
        "    x_train, y_train = make_double_images(x_train, y_train, num_train_samples)\n",
        "    x_test, y_test = make_double_images(x_test, y_test, num_test_samples)\n",
        "\n",
        "    return (x_train, y_train), (x_test, y_test)"
      ]
    },
    {
      "cell_type": "code",
      "execution_count": 5,
      "metadata": {
        "colab": {
          "base_uri": "https://localhost:8080/"
        },
        "id": "v3oMpzxHr1Y5",
        "outputId": "44d10850-6c6a-4d27-ff82-49933d136037"
      },
      "outputs": [
        {
          "name": "stdout",
          "output_type": "stream",
          "text": [
            "numpy : 2.0.2\n",
            "pandas : 2.3.1\n",
            "tensorflow : 2.18.1\n",
            "matplotlib : 3.10.0\n"
          ]
        }
      ],
      "source": [
        "print(\"numpy :\", np.__version__)\n",
        "print(\"pandas :\", pd.__version__)\n",
        "print(\"tensorflow :\", tf.__version__)\n",
        "print(\"matplotlib :\", matplotlib.__version__)"
      ]
    },
    {
      "cell_type": "code",
      "execution_count": 6,
      "metadata": {
        "id": "qGdO00Cjr1WZ"
      },
      "outputs": [],
      "source": [
        "#ここはColab用に学習の遷移のためのファイル。\n",
        "CSV_FILE_PATH = \"trainlog.csv\"\n",
        "if not os.path.exists(CSV_FILE_PATH):\n",
        "    pathlib.Path(CSV_FILE_PATH).touch()"
      ]
    },
    {
      "cell_type": "code",
      "execution_count": 8,
      "metadata": {
        "id": "d_OY0aVQr1Tx"
      },
      "outputs": [],
      "source": [
        "#データロード\n",
        "(X_train, y_train),(X_test, y_test) = load_double_data()"
      ]
    },
    {
      "cell_type": "code",
      "execution_count": 9,
      "metadata": {
        "colab": {
          "base_uri": "https://localhost:8080/"
        },
        "id": "MMfO-qXor1RL",
        "outputId": "1778f209-9c05-4331-ec7d-783de099a790"
      },
      "outputs": [
        {
          "name": "stdout",
          "output_type": "stream",
          "text": [
            "X_train :  (90000, 28, 28)\n",
            "y_train :  (90000,)\n",
            "X_test :  (10000, 28, 28)\n",
            "y_test :  (10000,)\n"
          ]
        }
      ],
      "source": [
        "print(\"X_train : \", X_train.shape)\n",
        "print(\"y_train : \", y_train.shape)\n",
        "print(\"X_test : \", X_test.shape)\n",
        "print(\"y_test : \", y_test.shape)"
      ]
    },
    {
      "cell_type": "code",
      "execution_count": 10,
      "metadata": {
        "colab": {
          "base_uri": "https://localhost:8080/",
          "height": 1000
        },
        "id": "JJayidfjsnNk",
        "outputId": "bf5f6c1b-b4b3-47da-e874-1bd50c8658e4"
      },
      "outputs": [
        {
          "name": "stdout",
          "output_type": "stream",
          "text": [
            "y_train (i=1):  75\n",
            "X_train (i=1): \n"
          ]
        },
        {
          "data": {
            "image/png": "[encoded data removed]",
            "text/plain": [
              "<Figure size 640x480 with 1 Axes>"
            ]
          },
          "metadata": {},
          "output_type": "display_data"
        },
        {
          "name": "stdout",
          "output_type": "stream",
          "text": [
            "y_train (i=10):  41\n",
            "X_train (i=10): \n"
          ]
        },
        {
          "data": {
            "image/png": "[encoded data removed]",
            "text/plain": [
              "<Figure size 640x480 with 1 Axes>"
            ]
          },
          "metadata": {},
          "output_type": "display_data"
        },
        {
          "name": "stdout",
          "output_type": "stream",
          "text": [
            "y_train (i=100):  66\n",
            "X_train (i=100): \n"
          ]
        },
        {
          "data": {
            "image/png": "[encoded data removed]",
            "text/plain": [
              "<Figure size 640x480 with 1 Axes>"
            ]
          },
          "metadata": {},
          "output_type": "display_data"
        }
      ],
      "source": [
        "#画像データの確認\n",
        "for i in [1,10,100]:\n",
        "   print(\"y_train\", \"(i=\"+str(i)+\"): \", y_train[i])\n",
        "   print(\"X_train\", \"(i=\"+str(i)+\"): \")\n",
        "   plt.imshow(X_train[i], cmap='gray')\n",
        "   plt.show()"
      ]
    },
    {
      "cell_type": "code",
      "execution_count": 11,
      "metadata": {
        "colab": {
          "base_uri": "https://localhost:8080/"
        },
        "id": "eEv0u-_2sqfT",
        "outputId": "94e339ce-e468-4856-ced5-8c69b6d9097b"
      },
      "outputs": [
        {
          "name": "stdout",
          "output_type": "stream",
          "text": [
            "X_train min 0.0\n",
            "X_train max 1.0\n"
          ]
        }
      ],
      "source": [
        "#入力値の確認\n",
        "print(\"X_train min\", X_train.min())\n",
        "print(\"X_train max\", X_train.max())"
      ]
    },
    {
      "cell_type": "code",
      "execution_count": 12,
      "metadata": {
        "colab": {
          "base_uri": "https://localhost:8080/"
        },
        "id": "gJPOEL5EsuC0",
        "outputId": "df98a0a1-a91a-4f9d-d502-140fb51df7bc"
      },
      "outputs": [
        {
          "name": "stderr",
          "output_type": "stream",
          "text": [
            "c:\\Users\\sen0v\\Music\\folder\\envs\\AI_ML\\Lib\\site-packages\\keras\\src\\layers\\reshaping\\flatten.py:37: UserWarning: Do not pass an `input_shape`/`input_dim` argument to a layer. When using Sequential models, prefer using an `Input(shape)` object as the first layer in the model instead.\n",
            "  super().__init__(**kwargs)\n"
          ]
        }
      ],
      "source": [
        "model = tf.keras.models.Sequential([\n",
        "    tf.keras.layers.Flatten(input_shape=(28, 28), name='input'),\n",
        "    #二桁を分割して、28*14を入力するときは、input_shapeを書き換え\n",
        "\n",
        "    tf.keras.layers.Dense(512, name='dense_1'),\n",
        "    tf.keras.layers.Activation(tf.nn.relu, name='gelu_1'),\n",
        "\n",
        "    tf.keras.layers.Dense(256, name='dense_2'),\n",
        "    tf.keras.layers.Activation(tf.nn.relu, name='gelu_2'),\n",
        "    tf.keras.layers.Dropout(0.2),\n",
        "\n",
        "    tf.keras.layers.Dense(256, name='dense_3'),\n",
        "    tf.keras.layers.Activation(tf.nn.relu, name='gelu_3'),\n",
        "    tf.keras.layers.Dense(100, name='dense_4'),\n",
        "    #今回の出力は0~99のどれか一つを出力するので、100としている。\n",
        "    tf.keras.layers.Activation(tf.nn.softmax, name='softmax')\n",
        "])"
      ]
    },
    {
      "cell_type": "code",
      "execution_count": 13,
      "metadata": {
        "colab": {
          "base_uri": "https://localhost:8080/",
          "height": 449
        },
        "id": "PBqyCdaitJa4",
        "outputId": "c14d79e7-52e4-48c5-e60e-76cde315693f"
      },
      "outputs": [
        {
          "data": {
            "text/html": [
              "<pre style=\"white-space:pre;overflow-x:auto;line-height:normal;font-family:Menlo,'DejaVu Sans Mono',consolas,'Courier New',monospace\"><span style=\"font-weight: bold\">Model: \"sequential\"</span>\n",
              "</pre>\n"
            ],
            "text/plain": [
              "\u001b[1mModel: \"sequential\"\u001b[0m\n"
            ]
          },
          "metadata": {},
          "output_type": "display_data"
        },
        {
          "data": {
            "text/html": [
              "<pre style=\"white-space:pre;overflow-x:auto;line-height:normal;font-family:Menlo,'DejaVu Sans Mono',consolas,'Courier New',monospace\">┏━━━━━━━━━━━━━━━━━━━━━━━━━━━━━━━━━┳━━━━━━━━━━━━━━━━━━━━━━━━┳━━━━━━━━━━━━━━━┓\n",
              "┃<span style=\"font-weight: bold\"> Layer (type)                    </span>┃<span style=\"font-weight: bold\"> Output Shape           </span>┃<span style=\"font-weight: bold\">       Param # </span>┃\n",
              "┡━━━━━━━━━━━━━━━━━━━━━━━━━━━━━━━━━╇━━━━━━━━━━━━━━━━━━━━━━━━╇━━━━━━━━━━━━━━━┩\n",
              "│ input (<span style=\"color: #0087ff; text-decoration-color: #0087ff\">Flatten</span>)                 │ (<span style=\"color: #00d7ff; text-decoration-color: #00d7ff\">None</span>, <span style=\"color: #00af00; text-decoration-color: #00af00\">784</span>)            │             <span style=\"color: #00af00; text-decoration-color: #00af00\">0</span> │\n",
              "├─────────────────────────────────┼────────────────────────┼───────────────┤\n",
              "│ dense_1 (<span style=\"color: #0087ff; text-decoration-color: #0087ff\">Dense</span>)                 │ (<span style=\"color: #00d7ff; text-decoration-color: #00d7ff\">None</span>, <span style=\"color: #00af00; text-decoration-color: #00af00\">512</span>)            │       <span style=\"color: #00af00; text-decoration-color: #00af00\">401,920</span> │\n",
              "├─────────────────────────────────┼────────────────────────┼───────────────┤\n",
              "│ gelu_1 (<span style=\"color: #0087ff; text-decoration-color: #0087ff\">Activation</span>)             │ (<span style=\"color: #00d7ff; text-decoration-color: #00d7ff\">None</span>, <span style=\"color: #00af00; text-decoration-color: #00af00\">512</span>)            │             <span style=\"color: #00af00; text-decoration-color: #00af00\">0</span> │\n",
              "├─────────────────────────────────┼────────────────────────┼───────────────┤\n",
              "│ dense_2 (<span style=\"color: #0087ff; text-decoration-color: #0087ff\">Dense</span>)                 │ (<span style=\"color: #00d7ff; text-decoration-color: #00d7ff\">None</span>, <span style=\"color: #00af00; text-decoration-color: #00af00\">256</span>)            │       <span style=\"color: #00af00; text-decoration-color: #00af00\">131,328</span> │\n",
              "├─────────────────────────────────┼────────────────────────┼───────────────┤\n",
              "│ gelu_2 (<span style=\"color: #0087ff; text-decoration-color: #0087ff\">Activation</span>)             │ (<span style=\"color: #00d7ff; text-decoration-color: #00d7ff\">None</span>, <span style=\"color: #00af00; text-decoration-color: #00af00\">256</span>)            │             <span style=\"color: #00af00; text-decoration-color: #00af00\">0</span> │\n",
              "├─────────────────────────────────┼────────────────────────┼───────────────┤\n",
              "│ dropout (<span style=\"color: #0087ff; text-decoration-color: #0087ff\">Dropout</span>)               │ (<span style=\"color: #00d7ff; text-decoration-color: #00d7ff\">None</span>, <span style=\"color: #00af00; text-decoration-color: #00af00\">256</span>)            │             <span style=\"color: #00af00; text-decoration-color: #00af00\">0</span> │\n",
              "├─────────────────────────────────┼────────────────────────┼───────────────┤\n",
              "│ dense_3 (<span style=\"color: #0087ff; text-decoration-color: #0087ff\">Dense</span>)                 │ (<span style=\"color: #00d7ff; text-decoration-color: #00d7ff\">None</span>, <span style=\"color: #00af00; text-decoration-color: #00af00\">256</span>)            │        <span style=\"color: #00af00; text-decoration-color: #00af00\">65,792</span> │\n",
              "├─────────────────────────────────┼────────────────────────┼───────────────┤\n",
              "│ gelu_3 (<span style=\"color: #0087ff; text-decoration-color: #0087ff\">Activation</span>)             │ (<span style=\"color: #00d7ff; text-decoration-color: #00d7ff\">None</span>, <span style=\"color: #00af00; text-decoration-color: #00af00\">256</span>)            │             <span style=\"color: #00af00; text-decoration-color: #00af00\">0</span> │\n",
              "├─────────────────────────────────┼────────────────────────┼───────────────┤\n",
              "│ dense_4 (<span style=\"color: #0087ff; text-decoration-color: #0087ff\">Dense</span>)                 │ (<span style=\"color: #00d7ff; text-decoration-color: #00d7ff\">None</span>, <span style=\"color: #00af00; text-decoration-color: #00af00\">100</span>)            │        <span style=\"color: #00af00; text-decoration-color: #00af00\">25,700</span> │\n",
              "├─────────────────────────────────┼────────────────────────┼───────────────┤\n",
              "│ softmax (<span style=\"color: #0087ff; text-decoration-color: #0087ff\">Activation</span>)            │ (<span style=\"color: #00d7ff; text-decoration-color: #00d7ff\">None</span>, <span style=\"color: #00af00; text-decoration-color: #00af00\">100</span>)            │             <span style=\"color: #00af00; text-decoration-color: #00af00\">0</span> │\n",
              "└─────────────────────────────────┴────────────────────────┴───────────────┘\n",
              "</pre>\n"
            ],
            "text/plain": [
              "┏━━━━━━━━━━━━━━━━━━━━━━━━━━━━━━━━━┳━━━━━━━━━━━━━━━━━━━━━━━━┳━━━━━━━━━━━━━━━┓\n",
              "┃\u001b[1m \u001b[0m\u001b[1mLayer (type)                   \u001b[0m\u001b[1m \u001b[0m┃\u001b[1m \u001b[0m\u001b[1mOutput Shape          \u001b[0m\u001b[1m \u001b[0m┃\u001b[1m \u001b[0m\u001b[1m      Param #\u001b[0m\u001b[1m \u001b[0m┃\n",
              "┡━━━━━━━━━━━━━━━━━━━━━━━━━━━━━━━━━╇━━━━━━━━━━━━━━━━━━━━━━━━╇━━━━━━━━━━━━━━━┩\n",
              "│ input (\u001b[38;5;33mFlatten\u001b[0m)                 │ (\u001b[38;5;45mNone\u001b[0m, \u001b[38;5;34m784\u001b[0m)            │             \u001b[38;5;34m0\u001b[0m │\n",
              "├─────────────────────────────────┼────────────────────────┼───────────────┤\n",
              "│ dense_1 (\u001b[38;5;33mDense\u001b[0m)                 │ (\u001b[38;5;45mNone\u001b[0m, \u001b[38;5;34m512\u001b[0m)            │       \u001b[38;5;34m401,920\u001b[0m │\n",
              "├─────────────────────────────────┼────────────────────────┼───────────────┤\n",
              "│ gelu_1 (\u001b[38;5;33mActivation\u001b[0m)             │ (\u001b[38;5;45mNone\u001b[0m, \u001b[38;5;34m512\u001b[0m)            │             \u001b[38;5;34m0\u001b[0m │\n",
              "├─────────────────────────────────┼────────────────────────┼───────────────┤\n",
              "│ dense_2 (\u001b[38;5;33mDense\u001b[0m)                 │ (\u001b[38;5;45mNone\u001b[0m, \u001b[38;5;34m256\u001b[0m)            │       \u001b[38;5;34m131,328\u001b[0m │\n",
              "├─────────────────────────────────┼────────────────────────┼───────────────┤\n",
              "│ gelu_2 (\u001b[38;5;33mActivation\u001b[0m)             │ (\u001b[38;5;45mNone\u001b[0m, \u001b[38;5;34m256\u001b[0m)            │             \u001b[38;5;34m0\u001b[0m │\n",
              "├─────────────────────────────────┼────────────────────────┼───────────────┤\n",
              "│ dropout (\u001b[38;5;33mDropout\u001b[0m)               │ (\u001b[38;5;45mNone\u001b[0m, \u001b[38;5;34m256\u001b[0m)            │             \u001b[38;5;34m0\u001b[0m │\n",
              "├─────────────────────────────────┼────────────────────────┼───────────────┤\n",
              "│ dense_3 (\u001b[38;5;33mDense\u001b[0m)                 │ (\u001b[38;5;45mNone\u001b[0m, \u001b[38;5;34m256\u001b[0m)            │        \u001b[38;5;34m65,792\u001b[0m │\n",
              "├─────────────────────────────────┼────────────────────────┼───────────────┤\n",
              "│ gelu_3 (\u001b[38;5;33mActivation\u001b[0m)             │ (\u001b[38;5;45mNone\u001b[0m, \u001b[38;5;34m256\u001b[0m)            │             \u001b[38;5;34m0\u001b[0m │\n",
              "├─────────────────────────────────┼────────────────────────┼───────────────┤\n",
              "│ dense_4 (\u001b[38;5;33mDense\u001b[0m)                 │ (\u001b[38;5;45mNone\u001b[0m, \u001b[38;5;34m100\u001b[0m)            │        \u001b[38;5;34m25,700\u001b[0m │\n",
              "├─────────────────────────────────┼────────────────────────┼───────────────┤\n",
              "│ softmax (\u001b[38;5;33mActivation\u001b[0m)            │ (\u001b[38;5;45mNone\u001b[0m, \u001b[38;5;34m100\u001b[0m)            │             \u001b[38;5;34m0\u001b[0m │\n",
              "└─────────────────────────────────┴────────────────────────┴───────────────┘\n"
            ]
          },
          "metadata": {},
          "output_type": "display_data"
        },
        {
          "data": {
            "text/html": [
              "<pre style=\"white-space:pre;overflow-x:auto;line-height:normal;font-family:Menlo,'DejaVu Sans Mono',consolas,'Courier New',monospace\"><span style=\"font-weight: bold\"> Total params: </span><span style=\"color: #00af00; text-decoration-color: #00af00\">624,740</span> (2.38 MB)\n",
              "</pre>\n"
            ],
            "text/plain": [
              "\u001b[1m Total params: \u001b[0m\u001b[38;5;34m624,740\u001b[0m (2.38 MB)\n"
            ]
          },
          "metadata": {},
          "output_type": "display_data"
        },
        {
          "data": {
            "text/html": [
              "<pre style=\"white-space:pre;overflow-x:auto;line-height:normal;font-family:Menlo,'DejaVu Sans Mono',consolas,'Courier New',monospace\"><span style=\"font-weight: bold\"> Trainable params: </span><span style=\"color: #00af00; text-decoration-color: #00af00\">624,740</span> (2.38 MB)\n",
              "</pre>\n"
            ],
            "text/plain": [
              "\u001b[1m Trainable params: \u001b[0m\u001b[38;5;34m624,740\u001b[0m (2.38 MB)\n"
            ]
          },
          "metadata": {},
          "output_type": "display_data"
        },
        {
          "data": {
            "text/html": [
              "<pre style=\"white-space:pre;overflow-x:auto;line-height:normal;font-family:Menlo,'DejaVu Sans Mono',consolas,'Courier New',monospace\"><span style=\"font-weight: bold\"> Non-trainable params: </span><span style=\"color: #00af00; text-decoration-color: #00af00\">0</span> (0.00 B)\n",
              "</pre>\n"
            ],
            "text/plain": [
              "\u001b[1m Non-trainable params: \u001b[0m\u001b[38;5;34m0\u001b[0m (0.00 B)\n"
            ]
          },
          "metadata": {},
          "output_type": "display_data"
        }
      ],
      "source": [
        "model.summary()"
      ]
    },
    {
      "cell_type": "code",
      "execution_count": 14,
      "metadata": {
        "id": "U7oWt30etN2e"
      },
      "outputs": [],
      "source": [
        "# コンパイルの方式\n",
        "model.compile(optimizer='adam',\n",
        "              loss='sparse_categorical_crossentropy',\n",
        "              metrics=['accuracy'])"
      ]
    },
    {
      "cell_type": "code",
      "execution_count": 15,
      "metadata": {
        "id": "_Zp-MNUFtctM"
      },
      "outputs": [],
      "source": [
        "callbacks = []\n",
        "callbacks.append(tf.keras.callbacks.CSVLogger(CSV_FILE_PATH))"
      ]
    },
    {
      "cell_type": "code",
      "execution_count": 16,
      "metadata": {
        "colab": {
          "base_uri": "https://localhost:8080/"
        },
        "id": "eIwBOPFotg_q",
        "outputId": "485a1d0f-7f6f-45e9-b6a3-3e41f82fbf3c"
      },
      "outputs": [
        {
          "name": "stdout",
          "output_type": "stream",
          "text": [
            "Epoch 1/30\n",
            "\u001b[1m900/900\u001b[0m \u001b[32m━━━━━━━━━━━━━━━━━━━━\u001b[0m\u001b[37m\u001b[0m \u001b[1m9s\u001b[0m 8ms/step - accuracy: 0.5515 - loss: 1.7350 - val_accuracy: 0.8695 - val_loss: 0.4368\n",
            "Epoch 2/30\n",
            "\u001b[1m900/900\u001b[0m \u001b[32m━━━━━━━━━━━━━━━━━━━━\u001b[0m\u001b[37m\u001b[0m \u001b[1m8s\u001b[0m 9ms/step - accuracy: 0.8877 - loss: 0.3795 - val_accuracy: 0.9089 - val_loss: 0.3001\n",
            "Epoch 3/30\n",
            "\u001b[1m900/900\u001b[0m \u001b[32m━━━━━━━━━━━━━━━━━━━━\u001b[0m\u001b[37m\u001b[0m \u001b[1m9s\u001b[0m 10ms/step - accuracy: 0.9276 - loss: 0.2308 - val_accuracy: 0.9207 - val_loss: 0.2714\n",
            "Epoch 4/30\n",
            "\u001b[1m900/900\u001b[0m \u001b[32m━━━━━━━━━━━━━━━━━━━━\u001b[0m\u001b[37m\u001b[0m \u001b[1m8s\u001b[0m 9ms/step - accuracy: 0.9514 - loss: 0.1544 - val_accuracy: 0.9323 - val_loss: 0.2496\n",
            "Epoch 5/30\n",
            "\u001b[1m900/900\u001b[0m \u001b[32m━━━━━━━━━━━━━━━━━━━━\u001b[0m\u001b[37m\u001b[0m \u001b[1m8s\u001b[0m 9ms/step - accuracy: 0.9634 - loss: 0.1153 - val_accuracy: 0.9324 - val_loss: 0.2546\n",
            "Epoch 6/30\n",
            "\u001b[1m900/900\u001b[0m \u001b[32m━━━━━━━━━━━━━━━━━━━━\u001b[0m\u001b[37m\u001b[0m \u001b[1m8s\u001b[0m 9ms/step - accuracy: 0.9693 - loss: 0.0941 - val_accuracy: 0.9314 - val_loss: 0.2664\n",
            "Epoch 7/30\n",
            "\u001b[1m900/900\u001b[0m \u001b[32m━━━━━━━━━━━━━━━━━━━━\u001b[0m\u001b[37m\u001b[0m \u001b[1m8s\u001b[0m 9ms/step - accuracy: 0.9740 - loss: 0.0789 - val_accuracy: 0.9347 - val_loss: 0.2821\n",
            "Epoch 8/30\n",
            "\u001b[1m900/900\u001b[0m \u001b[32m━━━━━━━━━━━━━━━━━━━━\u001b[0m\u001b[37m\u001b[0m \u001b[1m7s\u001b[0m 7ms/step - accuracy: 0.9795 - loss: 0.0630 - val_accuracy: 0.9361 - val_loss: 0.2763\n",
            "Epoch 9/30\n",
            "\u001b[1m900/900\u001b[0m \u001b[32m━━━━━━━━━━━━━━━━━━━━\u001b[0m\u001b[37m\u001b[0m \u001b[1m7s\u001b[0m 8ms/step - accuracy: 0.9811 - loss: 0.0573 - val_accuracy: 0.9335 - val_loss: 0.2941\n",
            "Epoch 10/30\n",
            "\u001b[1m900/900\u001b[0m \u001b[32m━━━━━━━━━━━━━━━━━━━━\u001b[0m\u001b[37m\u001b[0m \u001b[1m7s\u001b[0m 8ms/step - accuracy: 0.9831 - loss: 0.0516 - val_accuracy: 0.9314 - val_loss: 0.2995\n",
            "Epoch 11/30\n",
            "\u001b[1m900/900\u001b[0m \u001b[32m━━━━━━━━━━━━━━━━━━━━\u001b[0m\u001b[37m\u001b[0m \u001b[1m8s\u001b[0m 9ms/step - accuracy: 0.9847 - loss: 0.0470 - val_accuracy: 0.9395 - val_loss: 0.3139\n",
            "Epoch 12/30\n",
            "\u001b[1m900/900\u001b[0m \u001b[32m━━━━━━━━━━━━━━━━━━━━\u001b[0m\u001b[37m\u001b[0m \u001b[1m7s\u001b[0m 8ms/step - accuracy: 0.9857 - loss: 0.0453 - val_accuracy: 0.9365 - val_loss: 0.3149\n",
            "Epoch 13/30\n",
            "\u001b[1m900/900\u001b[0m \u001b[32m━━━━━━━━━━━━━━━━━━━━\u001b[0m\u001b[37m\u001b[0m \u001b[1m8s\u001b[0m 9ms/step - accuracy: 0.9860 - loss: 0.0403 - val_accuracy: 0.9395 - val_loss: 0.3144\n",
            "Epoch 14/30\n",
            "\u001b[1m900/900\u001b[0m \u001b[32m━━━━━━━━━━━━━━━━━━━━\u001b[0m\u001b[37m\u001b[0m \u001b[1m7s\u001b[0m 8ms/step - accuracy: 0.9878 - loss: 0.0373 - val_accuracy: 0.9350 - val_loss: 0.3369\n",
            "Epoch 15/30\n",
            "\u001b[1m900/900\u001b[0m \u001b[32m━━━━━━━━━━━━━━━━━━━━\u001b[0m\u001b[37m\u001b[0m \u001b[1m8s\u001b[0m 8ms/step - accuracy: 0.9886 - loss: 0.0352 - val_accuracy: 0.9336 - val_loss: 0.3560\n",
            "Epoch 16/30\n",
            "\u001b[1m900/900\u001b[0m \u001b[32m━━━━━━━━━━━━━━━━━━━━\u001b[0m\u001b[37m\u001b[0m \u001b[1m8s\u001b[0m 8ms/step - accuracy: 0.9904 - loss: 0.0332 - val_accuracy: 0.9387 - val_loss: 0.3267\n",
            "Epoch 17/30\n",
            "\u001b[1m900/900\u001b[0m \u001b[32m━━━━━━━━━━━━━━━━━━━━\u001b[0m\u001b[37m\u001b[0m \u001b[1m8s\u001b[0m 9ms/step - accuracy: 0.9899 - loss: 0.0319 - val_accuracy: 0.9360 - val_loss: 0.3566\n",
            "Epoch 18/30\n",
            "\u001b[1m900/900\u001b[0m \u001b[32m━━━━━━━━━━━━━━━━━━━━\u001b[0m\u001b[37m\u001b[0m \u001b[1m8s\u001b[0m 9ms/step - accuracy: 0.9896 - loss: 0.0325 - val_accuracy: 0.9360 - val_loss: 0.3520\n",
            "Epoch 19/30\n",
            "\u001b[1m900/900\u001b[0m \u001b[32m━━━━━━━━━━━━━━━━━━━━\u001b[0m\u001b[37m\u001b[0m \u001b[1m8s\u001b[0m 9ms/step - accuracy: 0.9898 - loss: 0.0321 - val_accuracy: 0.9417 - val_loss: 0.3419\n",
            "Epoch 20/30\n",
            "\u001b[1m900/900\u001b[0m \u001b[32m━━━━━━━━━━━━━━━━━━━━\u001b[0m\u001b[37m\u001b[0m \u001b[1m7s\u001b[0m 8ms/step - accuracy: 0.9907 - loss: 0.0296 - val_accuracy: 0.9434 - val_loss: 0.3248\n",
            "Epoch 21/30\n",
            "\u001b[1m900/900\u001b[0m \u001b[32m━━━━━━━━━━━━━━━━━━━━\u001b[0m\u001b[37m\u001b[0m \u001b[1m7s\u001b[0m 8ms/step - accuracy: 0.9921 - loss: 0.0259 - val_accuracy: 0.9422 - val_loss: 0.3232\n",
            "Epoch 22/30\n",
            "\u001b[1m900/900\u001b[0m \u001b[32m━━━━━━━━━━━━━━━━━━━━\u001b[0m\u001b[37m\u001b[0m \u001b[1m8s\u001b[0m 8ms/step - accuracy: 0.9920 - loss: 0.0261 - val_accuracy: 0.9399 - val_loss: 0.3571\n",
            "Epoch 23/30\n",
            "\u001b[1m900/900\u001b[0m \u001b[32m━━━━━━━━━━━━━━━━━━━━\u001b[0m\u001b[37m\u001b[0m \u001b[1m7s\u001b[0m 8ms/step - accuracy: 0.9914 - loss: 0.0279 - val_accuracy: 0.9443 - val_loss: 0.3298\n",
            "Epoch 24/30\n",
            "\u001b[1m900/900\u001b[0m \u001b[32m━━━━━━━━━━━━━━━━━━━━\u001b[0m\u001b[37m\u001b[0m \u001b[1m8s\u001b[0m 9ms/step - accuracy: 0.9913 - loss: 0.0273 - val_accuracy: 0.9418 - val_loss: 0.3426\n",
            "Epoch 25/30\n",
            "\u001b[1m900/900\u001b[0m \u001b[32m━━━━━━━━━━━━━━━━━━━━\u001b[0m\u001b[37m\u001b[0m \u001b[1m7s\u001b[0m 8ms/step - accuracy: 0.9923 - loss: 0.0234 - val_accuracy: 0.9369 - val_loss: 0.3738\n",
            "Epoch 26/30\n",
            "\u001b[1m900/900\u001b[0m \u001b[32m━━━━━━━━━━━━━━━━━━━━\u001b[0m\u001b[37m\u001b[0m \u001b[1m7s\u001b[0m 8ms/step - accuracy: 0.9924 - loss: 0.0259 - val_accuracy: 0.9432 - val_loss: 0.3563\n",
            "Epoch 27/30\n",
            "\u001b[1m900/900\u001b[0m \u001b[32m━━━━━━━━━━━━━━━━━━━━\u001b[0m\u001b[37m\u001b[0m \u001b[1m8s\u001b[0m 8ms/step - accuracy: 0.9936 - loss: 0.0209 - val_accuracy: 0.9460 - val_loss: 0.3396\n",
            "Epoch 28/30\n",
            "\u001b[1m900/900\u001b[0m \u001b[32m━━━━━━━━━━━━━━━━━━━━\u001b[0m\u001b[37m\u001b[0m \u001b[1m8s\u001b[0m 9ms/step - accuracy: 0.9939 - loss: 0.0216 - val_accuracy: 0.9472 - val_loss: 0.3358\n",
            "Epoch 29/30\n",
            "\u001b[1m900/900\u001b[0m \u001b[32m━━━━━━━━━━━━━━━━━━━━\u001b[0m\u001b[37m\u001b[0m \u001b[1m7s\u001b[0m 8ms/step - accuracy: 0.9924 - loss: 0.0259 - val_accuracy: 0.9494 - val_loss: 0.3162\n",
            "Epoch 30/30\n",
            "\u001b[1m900/900\u001b[0m \u001b[32m━━━━━━━━━━━━━━━━━━━━\u001b[0m\u001b[37m\u001b[0m \u001b[1m8s\u001b[0m 8ms/step - accuracy: 0.9935 - loss: 0.0223 - val_accuracy: 0.9427 - val_loss: 0.3694\n"
          ]
        }
      ],
      "source": [
        "#学習\n",
        "history = model.fit(X_train, y_train,\n",
        "                    batch_size=100,\n",
        "                    epochs=30,\n",
        "                    verbose=1,\n",
        "                    validation_data=(X_test, y_test),\n",
        "                    callbacks=callbacks)"
      ]
    },
    {
      "cell_type": "code",
      "execution_count": 17,
      "metadata": {
        "colab": {
          "base_uri": "https://localhost:8080/"
        },
        "id": "ySqzyos9tg9A",
        "outputId": "c1764f2f-c148-4b2c-ea64-36f2ff327878"
      },
      "outputs": [
        {
          "name": "stdout",
          "output_type": "stream",
          "text": [
            "\u001b[1m2813/2813\u001b[0m \u001b[32m━━━━━━━━━━━━━━━━━━━━\u001b[0m\u001b[37m\u001b[0m \u001b[1m12s\u001b[0m 4ms/step - accuracy: 0.9962 - loss: 0.0114\n",
            "loss(train): 0.0111\n",
            "accuracy(train): 0.9963\n",
            "\n",
            "\u001b[1m313/313\u001b[0m \u001b[32m━━━━━━━━━━━━━━━━━━━━\u001b[0m\u001b[37m\u001b[0m \u001b[1m1s\u001b[0m 3ms/step - accuracy: 0.9424 - loss: 0.3633\n",
            "loss(test): 0.3694\n",
            "accuracy(test): 0.9427\n"
          ]
        }
      ],
      "source": [
        "# テスト\n",
        "train_loss, train_acc = model.evaluate(X_train, y_train, verbose=1)\n",
        "print(\"loss(train): {:.4}\".format(train_loss))\n",
        "print(\"accuracy(train): {:.4}\".format(train_acc))\n",
        "\n",
        "print()\n",
        "\n",
        "test_loss, test_acc = model.evaluate(X_test, y_test, verbose=1)\n",
        "print(\"loss(test): {:.4}\".format(test_loss))\n",
        "print(\"accuracy(test): {:.4}\".format(test_acc))"
      ]
    },
    {
      "cell_type": "code",
      "execution_count": 18,
      "metadata": {
        "colab": {
          "base_uri": "https://localhost:8080/",
          "height": 206
        },
        "id": "tcE4CkWU6pdS",
        "outputId": "109f8fe0-19ce-4986-fb98-571298bf0a7e"
      },
      "outputs": [
        {
          "data": {
            "text/html": [
              "<div>\n",
              "<style scoped>\n",
              "    .dataframe tbody tr th:only-of-type {\n",
              "        vertical-align: middle;\n",
              "    }\n",
              "\n",
              "    .dataframe tbody tr th {\n",
              "        vertical-align: top;\n",
              "    }\n",
              "\n",
              "    .dataframe thead th {\n",
              "        text-align: right;\n",
              "    }\n",
              "</style>\n",
              "<table border=\"1\" class=\"dataframe\">\n",
              "  <thead>\n",
              "    <tr style=\"text-align: right;\">\n",
              "      <th></th>\n",
              "      <th>epoch</th>\n",
              "      <th>accuracy</th>\n",
              "      <th>loss</th>\n",
              "      <th>val_accuracy</th>\n",
              "      <th>val_loss</th>\n",
              "    </tr>\n",
              "  </thead>\n",
              "  <tbody>\n",
              "    <tr>\n",
              "      <th>0</th>\n",
              "      <td>0</td>\n",
              "      <td>0.725756</td>\n",
              "      <td>0.980560</td>\n",
              "      <td>0.8695</td>\n",
              "      <td>0.436849</td>\n",
              "    </tr>\n",
              "    <tr>\n",
              "      <th>1</th>\n",
              "      <td>1</td>\n",
              "      <td>0.896811</td>\n",
              "      <td>0.349219</td>\n",
              "      <td>0.9089</td>\n",
              "      <td>0.300148</td>\n",
              "    </tr>\n",
              "    <tr>\n",
              "      <th>2</th>\n",
              "      <td>2</td>\n",
              "      <td>0.930111</td>\n",
              "      <td>0.224547</td>\n",
              "      <td>0.9207</td>\n",
              "      <td>0.271382</td>\n",
              "    </tr>\n",
              "    <tr>\n",
              "      <th>3</th>\n",
              "      <td>3</td>\n",
              "      <td>0.951189</td>\n",
              "      <td>0.156355</td>\n",
              "      <td>0.9323</td>\n",
              "      <td>0.249617</td>\n",
              "    </tr>\n",
              "    <tr>\n",
              "      <th>4</th>\n",
              "      <td>4</td>\n",
              "      <td>0.962389</td>\n",
              "      <td>0.120796</td>\n",
              "      <td>0.9324</td>\n",
              "      <td>0.254592</td>\n",
              "    </tr>\n",
              "  </tbody>\n",
              "</table>\n",
              "</div>"
            ],
            "text/plain": [
              "   epoch  accuracy      loss  val_accuracy  val_loss\n",
              "0      0  0.725756  0.980560        0.8695  0.436849\n",
              "1      1  0.896811  0.349219        0.9089  0.300148\n",
              "2      2  0.930111  0.224547        0.9207  0.271382\n",
              "3      3  0.951189  0.156355        0.9323  0.249617\n",
              "4      4  0.962389  0.120796        0.9324  0.254592"
            ]
          },
          "execution_count": 18,
          "metadata": {},
          "output_type": "execute_result"
        }
      ],
      "source": [
        "df = pd.read_csv(CSV_FILE_PATH)\n",
        "df.head()"
      ]
    },
    {
      "cell_type": "code",
      "execution_count": 19,
      "metadata": {
        "id": "_mx_0VbiuNnp"
      },
      "outputs": [],
      "source": [
        "epochs = df[\"epoch\"].values\n",
        "train_acc = df[\"accuracy\"].values\n",
        "train_loss = df[\"loss\"].values\n",
        "test_acc = df[\"val_accuracy\"].values\n",
        "test_loss = df[\"val_loss\"].values"
      ]
    },
    {
      "cell_type": "code",
      "execution_count": 20,
      "metadata": {
        "colab": {
          "base_uri": "https://localhost:8080/",
          "height": 449
        },
        "id": "xGKr3tv5tg6Y",
        "outputId": "38e34432-7ecb-44f9-9433-70b99180f6be"
      },
      "outputs": [
        {
          "data": {
            "image/png": "[encoded data removed]",
            "text/plain": [
              "<Figure size 640x480 with 1 Axes>"
            ]
          },
          "metadata": {},
          "output_type": "display_data"
        }
      ],
      "source": [
        "plt.plot(epochs, train_acc, label=\"train data\")\n",
        "plt.plot(epochs, test_acc, label=\"test data\")\n",
        "plt.xlabel(\"epochs\")\n",
        "plt.ylabel(\"accuracy\")\n",
        "plt.legend(loc=\"lower right\")\n",
        "plt.show()"
      ]
    },
    {
      "cell_type": "code",
      "execution_count": 21,
      "metadata": {
        "colab": {
          "base_uri": "https://localhost:8080/",
          "height": 824
        },
        "id": "Iu3L0wYdtt41",
        "outputId": "53040788-539c-4cd7-8082-2f0a0ac2911f"
      },
      "outputs": [
        {
          "name": "stdout",
          "output_type": "stream",
          "text": [
            "\u001b[1m2/2\u001b[0m \u001b[32m━━━━━━━━━━━━━━━━━━━━\u001b[0m\u001b[37m\u001b[0m \u001b[1m0s\u001b[0m 88ms/step\n"
          ]
        },
        {
          "name": "stderr",
          "output_type": "stream",
          "text": [
            "C:\\Users\\sen0v\\AppData\\Local\\Temp\\ipykernel_25444\\3144287143.py:31: UserWarning: FigureCanvasAgg is non-interactive, and thus cannot be shown\n",
            "  fig.show()\n"
          ]
        }
      ],
      "source": [
        "# テスト結果の表\n",
        "import matplotlib.pyplot as plt\n",
        "import numpy as np\n",
        "\n",
        "ROW = 6\n",
        "COLUMN = 8\n",
        "num_images = ROW * COLUMN\n",
        "predictions = model.predict(X_test[:num_images])\n",
        "\n",
        "y_preds = np.argmax(predictions, axis=1)\n",
        "\n",
        "\n",
        "fig = plt.figure(figsize=(12, 8))\n",
        "\n",
        "\n",
        "for i in range(ROW * COLUMN):\n",
        "    y_true = y_test[i]\n",
        "    y_pred = y_preds[i]\n",
        "\n",
        "    if y_true == y_pred:\n",
        "        result = \"True\"  # 正解\n",
        "    else:\n",
        "        result = \"False\" # 不正解\n",
        "\n",
        "    plt.subplot(ROW, COLUMN, i+1)\n",
        "    plt.imshow(X_test[i], cmap='gray')\n",
        "    plt.title(f\"No.{i} - {result}\\ny_true:{y_true}, y_pred:{y_pred}\")\n",
        "    plt.axis(\"off\")\n",
        "\n",
        "fig.tight_layout()\n",
        "fig.show()"
      ]
    },
    {
      "cell_type": "code",
      "execution_count": 22,
      "metadata": {
        "colab": {
          "base_uri": "https://localhost:8080/",
          "height": 606
        },
        "id": "7ceSt3L-vDuN",
        "outputId": "78cd3d43-99a1-4987-d799-f52ca51eb19b"
      },
      "outputs": [],
      "source": [
        "#出力のonehotをヒストグラムで描画\n",
        "# まばらになっているほど精度が悪い結果を出している。\n",
        "prediction_probabilities = predictions[8]\n",
        "\n",
        "class_labels = np.arange(len(prediction_probabilities))\n",
        "\n",
        "# 棒グラフ\n",
        "plt.figure(figsize=(10, 6))\n",
        "bars = plt.bar(class_labels, prediction_probabilities, color='skyblue', label='Probability')\n",
        "\n",
        "plt.xlabel('Class Label')\n",
        "plt.ylabel('Probability')\n",
        "plt.xticks(class_labels)  # X軸の目盛りをクラスラベルに設定\n",
        "plt.ylim(0, 1)            # Y軸の範囲を0から1に設定\n",
        "plt.grid(axis='y', linestyle='--', alpha=0.7)\n",
        "\n",
        "# 最も確率の高い棒をハイライトする\n",
        "predicted_class = np.argmax(prediction_probabilities)\n",
        "bars[predicted_class].set_color('royalblue')\n",
        "\n",
        "plt.legend()\n",
        "plt.tight_layout()\n"
      ]
    },
    {
      "cell_type": "code",
      "execution_count": 23,
      "metadata": {
        "colab": {
          "base_uri": "https://localhost:8080/",
          "height": 448
        },
        "id": "v3bjWYEEwyI9",
        "outputId": "b2a4bd36-af59-4304-9390-aaae8ef5654a"
      },
      "outputs": [
        {
          "data": {
            "text/plain": [
              "[<matplotlib.lines.Line2D at 0x1d82af30a90>]"
            ]
          },
          "execution_count": 23,
          "metadata": {},
          "output_type": "execute_result"
        }
      ],
      "source": [
        "#ジニ係数をだすパート\n",
        "# 一桁の推定->二桁の推定の移行を行う場合に役立つ\n",
        "# そのまま、数字を推定する場合はいらない。\n",
        "import numpy as np\n",
        "\n",
        "squared_probs = np.square(predictions)\n",
        "sum_squared_probs = np.sum(squared_probs, axis=1)\n",
        "gini_coefficients = 1 - sum_squared_probs\n",
        "\n",
        "gini_list = []\n",
        "# 結果の表示\n",
        "for i, gini in enumerate(gini_coefficients):\n",
        "    #print(f\"Prediction {i+1} {predictions[i]}: Gini = {gini:.4f}\")\n",
        "    gini_list.append(gini)\n",
        "\n",
        "plt.plot(gini_list)"
      ]
    },
    {
      "cell_type": "code",
      "execution_count": 24,
      "metadata": {
        "colab": {
          "base_uri": "https://localhost:8080/"
        },
        "id": "vqLLU26CtueR",
        "outputId": "7be0ce70-6e60-4780-f48f-54a05f403c7c"
      },
      "outputs": [
        {
          "name": "stderr",
          "output_type": "stream",
          "text": [
            "WARNING:absl:You are saving your model as an HDF5 file via `model.save()` or `keras.saving.save_model(model)`. This file format is considered legacy. We recommend using instead the native Keras format, e.g. `model.save('my_model.keras')` or `keras.saving.save_model(model, 'my_model.keras')`. \n"
          ]
        }
      ],
      "source": [
        "# 学習済みモデルの保存\n",
        "ins_path = 'trained_model_v0.h5'\n",
        "model.save(ins_path)"
      ]
    }
  ],
  "metadata": {
    "colab": {
      "authorship_tag": "ABX9TyMLem8zHlF0LWajMgn8ll84",
      "include_colab_link": true,
      "provenance": []
    },
    "kernelspec": {
      "display_name": "AI_ML",
      "language": "python",
      "name": "python3"
    },
    "language_info": {
      "codemirror_mode": {
        "name": "ipython",
        "version": 3
      },
      "file_extension": ".py",
      "mimetype": "text/x-python",
      "name": "python",
      "nbconvert_exporter": "python",
      "pygments_lexer": "ipython3",
      "version": "3.11.13"
    }
  },
  "nbformat": 4,
  "nbformat_minor": 0
}
