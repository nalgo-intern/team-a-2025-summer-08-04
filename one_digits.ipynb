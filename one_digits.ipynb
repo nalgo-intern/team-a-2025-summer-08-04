{
  "cells": [
    {
      "cell_type": "markdown",
      "metadata": {
        "colab_type": "text",
        "id": "view-in-github"
      },
      "source": [
        "<a href=\"https://colab.research.google.com/github/nalgo-intern/team-a-2025-summer-08-04/blob/ryotaro_branch/one_digits.ipynb\" target=\"_parent\"><img src=\"https://colab.research.google.com/assets/colab-badge.svg\" alt=\"Open In Colab\"/></a>"
      ]
    },
    {
      "cell_type": "code",
      "execution_count": null,
      "metadata": {
        "id": "w8RlokvPrvk-"
      },
      "outputs": [],
      "source": [
        "import os\n",
        "import pathlib\n",
        "import numpy as np\n",
        "import pandas as pd\n",
        "import tensorflow as tf\n",
        "from tensorflow.keras.datasets import mnist\n",
        "import matplotlib\n",
        "import matplotlib.pyplot as plt\n",
        "%matplotlib inline"
      ]
    },
    {
      "cell_type": "code",
      "execution_count": null,
      "metadata": {},
      "outputs": [],
      "source": [
        "from scipy.ndimage import rotate, shift\n",
        "# 改善した学習データ作成関数\n",
        "# 1枚の画像にデータ拡張を適用する関数\n",
        "def _augment_image(image):\n",
        "    \"\"\"1枚の画像に回転、移動、明るさ変更の拡張を適用する\"\"\"\n",
        "    img_aug = image.copy().astype(np.float32) # 計算用にfloat型に変換\n",
        "\n",
        "    # 1. ランダムな回転 (-10度から10度)\n",
        "    angle = np.random.uniform(-10, 10)\n",
        "    img_aug = rotate(img_aug, angle, reshape=False, mode='constant', cval=0)\n",
        "\n",
        "    # 2. ランダムな移動 (上下左右に-3から3ピクセル)\n",
        "    shift_val = np.random.uniform(-3, 3, size=2)\n",
        "    img_aug = shift(img_aug, shift_val, mode='constant', cval=0)\n",
        "\n",
        "    # 3. ランダムな明るさ変更 (0.7倍から1.3倍)\n",
        "    brightness = np.random.uniform(0.7, 1.3)\n",
        "    img_aug = np.clip(img_aug * brightness, 0, 255) # 0-255の範囲に収める\n",
        "    \n",
        "    return img_aug\n",
        "\n",
        "def make_double_images(images, labels, num_samples, augmentation=True):\n",
        "    double_images = []\n",
        "    double_labels = []\n",
        "\n",
        "    for _ in range(num_samples):\n",
        "        idx1 = np.random.randint(0, len(images))\n",
        "        idx2 = np.random.randint(0, len(images))\n",
        "\n",
        "        # 10の位の数字(label1)を取得\n",
        "        label1 = labels[idx1]\n",
        "\n",
        "        if label1 == 0:\n",
        "            # 1桁の数字の場合\n",
        "            # 元のMNISTデータをそのまま中央に配置した画像として扱う\n",
        "            final_image = images[idx2]\n",
        "            \n",
        "            # データ拡張が有効な場合は、この1枚の画像に適用\n",
        "            if augmentation:\n",
        "                final_image = _augment_image(final_image)\n",
        "            \n",
        "            # 0-1の範囲に正規化\n",
        "            final_image = final_image / 255.0\n",
        "            \n",
        "            double_images.append(final_image)\n",
        "            double_labels.append(labels[idx2])\n",
        "\n",
        "        else:\n",
        "            # 2桁の数字の場合 ---\n",
        "            img1 = images[idx1]\n",
        "            img2 = images[idx2]\n",
        "\n",
        "            # データ拡張が有効な場合は、それぞれの画像に適用\n",
        "            if augmentation:\n",
        "                img1 = _augment_image(img1)\n",
        "                img2 = _augment_image(img2)\n",
        "            \n",
        "            # 2枚の画像を横に連結\n",
        "            combined = np.concatenate([img1, img2], axis=1)\n",
        "\n",
        "            # (28, 56) -> (28, 28) にリサイズ\n",
        "            combined_with_channel = combined[..., np.newaxis]\n",
        "            resized_with_channel = tf.image.resize(combined_with_channel, [28, 28], method='bilinear')\n",
        "            \n",
        "            # チャンネル次元を削除し、正規化\n",
        "            final_image = np.squeeze(resized_with_channel) / 255.0\n",
        "\n",
        "            double_images.append(final_image)\n",
        "            double_labels.append(label1 * 10 + labels[idx2])\n",
        "\n",
        "    return np.array(double_images), np.array(double_labels)\n",
        "\n",
        "# データを読み込む関数\n",
        "def load_double_data_final(num_train_samples=80000, num_test_samples=20000):\n",
        "    (x_train, y_train), (x_test, y_test) = mnist.load_data()\n",
        "    x_train_double, y_train_double = make_double_images(x_train, y_train, num_train_samples, augmentation=True)\n",
        "    x_test_double, y_test_double = make_double_images(x_test, y_test, num_test_samples, augmentation=True)\n",
        "    return (x_train_double, y_train_double), (x_test_double, y_test_double)"
      ]
    },
    {
      "cell_type": "code",
      "execution_count": null,
      "metadata": {
        "colab": {
          "base_uri": "https://localhost:8080/"
        },
        "id": "v3oMpzxHr1Y5",
        "outputId": "44d10850-6c6a-4d27-ff82-49933d136037"
      },
      "outputs": [],
      "source": [
        "print(\"numpy :\", np.__version__)\n",
        "print(\"pandas :\", pd.__version__)\n",
        "print(\"tensorflow :\", tf.__version__)\n",
        "print(\"matplotlib :\", matplotlib.__version__)"
      ]
    },
    {
      "cell_type": "code",
      "execution_count": null,
      "metadata": {
        "id": "qGdO00Cjr1WZ"
      },
      "outputs": [],
      "source": [
        "#ここはColab用に学習の遷移のためのファイル。\n",
        "CSV_FILE_PATH = \"trainlog.csv\"\n",
        "if not os.path.exists(CSV_FILE_PATH):\n",
        "    pathlib.Path(CSV_FILE_PATH).touch()"
      ]
    },
    {
      "cell_type": "code",
      "execution_count": null,
      "metadata": {
        "id": "d_OY0aVQr1Tx"
      },
      "outputs": [],
      "source": [
        "#データロード\n",
        "(X_train, y_train),(X_test, y_test) = load_double_data_final()"
      ]
    },
    {
      "cell_type": "code",
      "execution_count": null,
      "metadata": {
        "colab": {
          "base_uri": "https://localhost:8080/"
        },
        "id": "MMfO-qXor1RL",
        "outputId": "1778f209-9c05-4331-ec7d-783de099a790"
      },
      "outputs": [],
      "source": [
        "print(\"X_train : \", X_train.shape)\n",
        "print(\"y_train : \", y_train.shape)\n",
        "print(\"X_test : \", X_test.shape)\n",
        "print(\"y_test : \", y_test.shape)"
      ]
    },
    {
      "cell_type": "code",
      "execution_count": null,
      "metadata": {
        "colab": {
          "base_uri": "https://localhost:8080/",
          "height": 1000
        },
        "id": "JJayidfjsnNk",
        "outputId": "bf5f6c1b-b4b3-47da-e874-1bd50c8658e4"
      },
      "outputs": [],
      "source": [
        "#画像データの確認\n",
        "for i in [1,10,100]:\n",
        "   print(\"y_train\", \"(i=\"+str(i)+\"): \", y_train[i])\n",
        "   print(\"X_train\", \"(i=\"+str(i)+\"): \")\n",
        "   plt.imshow(X_train[i], cmap='gray')\n",
        "   plt.show()"
      ]
    },
    {
      "cell_type": "code",
      "execution_count": null,
      "metadata": {
        "colab": {
          "base_uri": "https://localhost:8080/"
        },
        "id": "eEv0u-_2sqfT",
        "outputId": "94e339ce-e468-4856-ced5-8c69b6d9097b"
      },
      "outputs": [],
      "source": [
        "#入力値の確認\n",
        "print(\"X_train min\", X_train.min())\n",
        "print(\"X_train max\", X_train.max())"
      ]
    },
    {
      "cell_type": "code",
      "execution_count": null,
      "metadata": {
        "colab": {
          "base_uri": "https://localhost:8080/"
        },
        "id": "gJPOEL5EsuC0",
        "outputId": "df98a0a1-a91a-4f9d-d502-140fb51df7bc"
      },
      "outputs": [],
      "source": [
        "model = tf.keras.models.Sequential([\n",
        "    tf.keras.layers.Flatten(input_shape=(28, 28), name='input'),\n",
        "    #二桁を分割して、28*14を入力するときは、input_shapeを書き換え\n",
        "\n",
        "    tf.keras.layers.Dense(512, name='dense_1'),\n",
        "    tf.keras.layers.Activation(tf.nn.relu, name='gelu_1'),\n",
        "\n",
        "    tf.keras.layers.Dense(256, name='dense_2'),\n",
        "    tf.keras.layers.Activation(tf.nn.relu, name='gelu_2'),\n",
        "    tf.keras.layers.Dropout(0.2),\n",
        "\n",
        "    tf.keras.layers.Dense(256, name='dense_3'),\n",
        "    tf.keras.layers.Activation(tf.nn.relu, name='gelu_3'),\n",
        "    tf.keras.layers.Dense(100, name='dense_4'),\n",
        "    #今回の出力は0~99のどれか一つを出力するので、100としている。\n",
        "    tf.keras.layers.Activation(tf.nn.softmax, name='softmax')\n",
        "])"
      ]
    },
    {
      "cell_type": "code",
      "execution_count": null,
      "metadata": {
        "colab": {
          "base_uri": "https://localhost:8080/",
          "height": 449
        },
        "id": "PBqyCdaitJa4",
        "outputId": "c14d79e7-52e4-48c5-e60e-76cde315693f"
      },
      "outputs": [],
      "source": [
        "model.summary()"
      ]
    },
    {
      "cell_type": "code",
      "execution_count": null,
      "metadata": {
        "id": "U7oWt30etN2e"
      },
      "outputs": [],
      "source": [
        "# コンパイルの方式\n",
        "model.compile(optimizer='adam',\n",
        "              loss='sparse_categorical_crossentropy',\n",
        "              metrics=['accuracy'])"
      ]
    },
    {
      "cell_type": "code",
      "execution_count": null,
      "metadata": {
        "id": "_Zp-MNUFtctM"
      },
      "outputs": [],
      "source": [
        "callbacks = []\n",
        "callbacks.append(tf.keras.callbacks.CSVLogger(CSV_FILE_PATH))"
      ]
    },
    {
      "cell_type": "code",
      "execution_count": null,
      "metadata": {
        "colab": {
          "base_uri": "https://localhost:8080/"
        },
        "id": "eIwBOPFotg_q",
        "outputId": "485a1d0f-7f6f-45e9-b6a3-3e41f82fbf3c"
      },
      "outputs": [],
      "source": [
        "#学習\n",
        "history = model.fit(X_train, y_train,\n",
        "                    batch_size=100,\n",
        "                    epochs=30,\n",
        "                    verbose=1,\n",
        "                    validation_data=(X_test, y_test),\n",
        "                    callbacks=callbacks)"
      ]
    },
    {
      "cell_type": "code",
      "execution_count": null,
      "metadata": {
        "colab": {
          "base_uri": "https://localhost:8080/"
        },
        "id": "ySqzyos9tg9A",
        "outputId": "c1764f2f-c148-4b2c-ea64-36f2ff327878"
      },
      "outputs": [],
      "source": [
        "# テスト\n",
        "train_loss, train_acc = model.evaluate(X_train, y_train, verbose=1)\n",
        "print(\"loss(train): {:.4}\".format(train_loss))\n",
        "print(\"accuracy(train): {:.4}\".format(train_acc))\n",
        "\n",
        "print()\n",
        "\n",
        "test_loss, test_acc = model.evaluate(X_test, y_test, verbose=1)\n",
        "print(\"loss(test): {:.4}\".format(test_loss))\n",
        "print(\"accuracy(test): {:.4}\".format(test_acc))"
      ]
    },
    {
      "cell_type": "code",
      "execution_count": null,
      "metadata": {
        "colab": {
          "base_uri": "https://localhost:8080/",
          "height": 206
        },
        "id": "tcE4CkWU6pdS",
        "outputId": "109f8fe0-19ce-4986-fb98-571298bf0a7e"
      },
      "outputs": [],
      "source": [
        "df = pd.read_csv(CSV_FILE_PATH)\n",
        "df.head()"
      ]
    },
    {
      "cell_type": "code",
      "execution_count": null,
      "metadata": {
        "id": "_mx_0VbiuNnp"
      },
      "outputs": [],
      "source": [
        "epochs = df[\"epoch\"].values\n",
        "train_acc = df[\"accuracy\"].values\n",
        "train_loss = df[\"loss\"].values\n",
        "test_acc = df[\"val_accuracy\"].values\n",
        "test_loss = df[\"val_loss\"].values"
      ]
    },
    {
      "cell_type": "code",
      "execution_count": null,
      "metadata": {
        "colab": {
          "base_uri": "https://localhost:8080/",
          "height": 449
        },
        "id": "xGKr3tv5tg6Y",
        "outputId": "38e34432-7ecb-44f9-9433-70b99180f6be"
      },
      "outputs": [],
      "source": [
        "plt.plot(epochs, train_acc, label=\"train data\")\n",
        "plt.plot(epochs, test_acc, label=\"test data\")\n",
        "plt.xlabel(\"epochs\")\n",
        "plt.ylabel(\"accuracy\")\n",
        "plt.legend(loc=\"lower right\")\n",
        "plt.show()"
      ]
    },
    {
      "cell_type": "code",
      "execution_count": null,
      "metadata": {
        "colab": {
          "base_uri": "https://localhost:8080/",
          "height": 824
        },
        "id": "Iu3L0wYdtt41",
        "outputId": "53040788-539c-4cd7-8082-2f0a0ac2911f"
      },
      "outputs": [],
      "source": [
        "# テスト結果の表\n",
        "import matplotlib.pyplot as plt\n",
        "import numpy as np\n",
        "\n",
        "ROW = 6\n",
        "COLUMN = 8\n",
        "num_images = ROW * COLUMN\n",
        "predictions = model.predict(X_test[:num_images])\n",
        "\n",
        "y_preds = np.argmax(predictions, axis=1)\n",
        "\n",
        "\n",
        "fig = plt.figure(figsize=(12, 8))\n",
        "\n",
        "\n",
        "for i in range(ROW * COLUMN):\n",
        "    y_true = y_test[i]\n",
        "    y_pred = y_preds[i]\n",
        "\n",
        "    if y_true == y_pred:\n",
        "        result = \"True\"  # 正解\n",
        "    else:\n",
        "        result = \"False\" # 不正解\n",
        "\n",
        "    plt.subplot(ROW, COLUMN, i+1)\n",
        "    plt.imshow(X_test[i], cmap='gray')\n",
        "    plt.title(f\"No.{i} - {result}\\ny_true:{y_true}, y_pred:{y_pred}\")\n",
        "    plt.axis(\"off\")\n",
        "\n",
        "fig.tight_layout()\n",
        "fig.show()"
      ]
    },
    {
      "cell_type": "code",
      "execution_count": null,
      "metadata": {
        "colab": {
          "base_uri": "https://localhost:8080/",
          "height": 606
        },
        "id": "7ceSt3L-vDuN",
        "outputId": "78cd3d43-99a1-4987-d799-f52ca51eb19b"
      },
      "outputs": [],
      "source": [
        "#出力のonehotをヒストグラムで描画\n",
        "# まばらになっているほど精度が悪い結果を出している。\n",
        "prediction_probabilities = predictions[8]\n",
        "\n",
        "class_labels = np.arange(len(prediction_probabilities))\n",
        "\n",
        "# 棒グラフ\n",
        "plt.figure(figsize=(10, 6))\n",
        "bars = plt.bar(class_labels, prediction_probabilities, color='skyblue', label='Probability')\n",
        "\n",
        "plt.xlabel('Class Label')\n",
        "plt.ylabel('Probability')\n",
        "plt.xticks(class_labels)  # X軸の目盛りをクラスラベルに設定\n",
        "plt.ylim(0, 1)            # Y軸の範囲を0から1に設定\n",
        "plt.grid(axis='y', linestyle='--', alpha=0.7)\n",
        "\n",
        "# 最も確率の高い棒をハイライトする\n",
        "predicted_class = np.argmax(prediction_probabilities)\n",
        "bars[predicted_class].set_color('royalblue')\n",
        "\n",
        "plt.legend()\n",
        "plt.tight_layout()\n"
      ]
    },
    {
      "cell_type": "code",
      "execution_count": null,
      "metadata": {
        "colab": {
          "base_uri": "https://localhost:8080/",
          "height": 448
        },
        "id": "v3bjWYEEwyI9",
        "outputId": "b2a4bd36-af59-4304-9390-aaae8ef5654a"
      },
      "outputs": [],
      "source": [
        "#ジニ係数をだすパート\n",
        "# 一桁の推定->二桁の推定の移行を行う場合に役立つ\n",
        "# そのまま、数字を推定する場合はいらない。\n",
        "import numpy as np\n",
        "\n",
        "squared_probs = np.square(predictions)\n",
        "sum_squared_probs = np.sum(squared_probs, axis=1)\n",
        "gini_coefficients = 1 - sum_squared_probs\n",
        "\n",
        "gini_list = []\n",
        "# 結果の表示\n",
        "for i, gini in enumerate(gini_coefficients):\n",
        "    #print(f\"Prediction {i+1} {predictions[i]}: Gini = {gini:.4f}\")\n",
        "    gini_list.append(gini)\n",
        "\n",
        "plt.plot(gini_list)"
      ]
    },
    {
      "cell_type": "code",
      "execution_count": null,
      "metadata": {
        "colab": {
          "base_uri": "https://localhost:8080/"
        },
        "id": "vqLLU26CtueR",
        "outputId": "7be0ce70-6e60-4780-f48f-54a05f403c7c"
      },
      "outputs": [],
      "source": [
        "# 学習済みモデルの保存\n",
        "ins_path = 'trained_model_v2.h5'\n",
        "model.save(ins_path)"
      ]
    }
  ],
  "metadata": {
    "colab": {
      "authorship_tag": "ABX9TyMLem8zHlF0LWajMgn8ll84",
      "include_colab_link": true,
      "provenance": []
    },
    "kernelspec": {
      "display_name": "AI_ML",
      "language": "python",
      "name": "python3"
    },
    "language_info": {
      "codemirror_mode": {
        "name": "ipython",
        "version": 3
      },
      "file_extension": ".py",
      "mimetype": "text/x-python",
      "name": "python",
      "nbconvert_exporter": "python",
      "pygments_lexer": "ipython3",
      "version": "3.11.13"
    }
  },
  "nbformat": 4,
  "nbformat_minor": 0
}
