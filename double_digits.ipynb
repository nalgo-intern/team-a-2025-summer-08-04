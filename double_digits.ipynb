{
  "cells": [
    {
      "cell_type": "markdown",
      "metadata": {
        "colab_type": "text",
        "id": "view-in-github"
      },
      "source": [
        "<a href=\"https://colab.research.google.com/github/nalgo-intern/team-a-2025-summer-08-04/blob/main/double_digits.ipynb\" target=\"_parent\"><img src=\"https://colab.research.google.com/assets/colab-badge.svg\" alt=\"Open In Colab\"/></a>"
      ]
    },
    {
      "cell_type": "code",
      "execution_count": null,
      "metadata": {
        "id": "kTssib-FuWB7"
      },
      "outputs": [],
      "source": [
        "from tensorflow.keras.datasets import mnist\n",
        "import numpy as np\n",
        "from scipy.ndimage import zoom\n",
        "\n",
        "def make_double_images(images, labels, num_samples):\n",
        "    double_images = []\n",
        "    double_labels = []\n",
        "\n",
        "    for _ in range(num_samples):\n",
        "        idx = np.random.randint(0, len(images))\n",
        "\n",
        "        img = images[idx]\n",
        "\n",
        "        resized = zoom(img, (1.0, 0.5))              # 横を0.5倍にして28x14に\n",
        "        resized = resized / 255.0                         # 正規化\n",
        "\n",
        "        double_images.append(resized)\n",
        "        double_labels.append(labels[idx])\n",
        "\n",
        "    return np.array(double_images), np.array(double_labels)\n",
        "\n",
        "def load_double_data(num_train_samples=90000, num_test_samples=10000):\n",
        "    (x_train, y_train), (x_test, y_test) = mnist.load_data()\n",
        "\n",
        "    x_train, y_train = make_double_images(x_train, y_train, num_train_samples)\n",
        "    x_test, y_test = make_double_images(x_test, y_test, num_test_samples)\n",
        "\n",
        "    return (x_train, y_train), (x_test, y_test)\n"
      ]
    },
    {
      "cell_type": "code",
      "execution_count": 5,
      "metadata": {
        "colab": {
          "base_uri": "https://localhost:8080/"
        },
        "id": "TZmYML9EOgJP",
        "outputId": "f84df060-493c-497e-940a-2ce6cc3cc423"
      },
      "outputs": [
        {
          "name": "stdout",
          "output_type": "stream",
          "text": [
            "Downloading data from https://storage.googleapis.com/tensorflow/tf-keras-datasets/mnist.npz\n",
            "\u001b[1m11490434/11490434\u001b[0m \u001b[32m━━━━━━━━━━━━━━━━━━━━\u001b[0m\u001b[37m\u001b[0m \u001b[1m0s\u001b[0m 0us/step\n"
          ]
        }
      ],
      "source": [
        "(x_train, y_train), _ = load_double_data()"
      ]
    },
    {
      "cell_type": "code",
      "execution_count": null,
      "metadata": {
        "colab": {
          "base_uri": "https://localhost:8080/"
        },
        "id": "w5gFMOX_JhwN",
        "outputId": "80c00f85-ebcf-4c41-ff76-900edc1065f4"
      },
      "outputs": [
        {
          "name": "stdout",
          "output_type": "stream",
          "text": [
            "00: 1002\n",
            "01: 1179\n",
            "02: 960\n",
            "03: 1060\n",
            "04: 914\n",
            "05: 863\n",
            "06: 1011\n",
            "07: 985\n",
            "08: 999\n",
            "09: 961\n",
            "10: 1154\n",
            "11: 1306\n",
            "12: 1078\n",
            "13: 1165\n",
            "14: 1123\n",
            "15: 1016\n",
            "16: 1146\n",
            "17: 1129\n",
            "18: 1126\n",
            "19: 1066\n",
            "20: 964\n",
            "21: 1098\n",
            "22: 980\n",
            "23: 996\n",
            "24: 976\n",
            "25: 886\n",
            "26: 941\n",
            "27: 1008\n",
            "28: 982\n",
            "29: 1009\n",
            "30: 1008\n",
            "31: 1174\n",
            "32: 999\n",
            "33: 1010\n",
            "34: 994\n",
            "35: 945\n",
            "36: 1026\n",
            "37: 1069\n",
            "38: 956\n",
            "39: 1035\n",
            "40: 889\n",
            "41: 1076\n",
            "42: 933\n",
            "43: 1038\n",
            "44: 917\n",
            "45: 857\n",
            "46: 1009\n",
            "47: 1012\n",
            "48: 971\n",
            "49: 964\n",
            "50: 900\n",
            "51: 1022\n",
            "52: 923\n",
            "53: 908\n",
            "54: 837\n",
            "55: 843\n",
            "56: 928\n",
            "57: 933\n",
            "58: 894\n",
            "59: 879\n",
            "60: 996\n",
            "61: 1087\n",
            "62: 965\n",
            "63: 977\n",
            "64: 1019\n",
            "65: 905\n",
            "66: 1000\n",
            "67: 1104\n",
            "68: 974\n",
            "69: 967\n",
            "70: 1039\n",
            "71: 1199\n",
            "72: 1026\n",
            "73: 1088\n",
            "74: 982\n",
            "75: 956\n",
            "76: 1075\n",
            "77: 1044\n",
            "78: 1006\n",
            "79: 1018\n",
            "80: 938\n",
            "81: 1094\n",
            "82: 1010\n",
            "83: 953\n",
            "84: 926\n",
            "85: 830\n",
            "86: 886\n",
            "87: 1070\n",
            "88: 990\n",
            "89: 902\n",
            "90: 1001\n",
            "91: 1137\n",
            "92: 1000\n",
            "93: 987\n",
            "94: 961\n",
            "95: 959\n",
            "96: 950\n",
            "97: 1040\n",
            "98: 928\n",
            "99: 979\n"
          ]
        }
      ],
      "source": [
        "# 各数字の割合を確認してみる\n",
        "for i in range(10):\n",
        "    count = len(y_train[y_train[0] == i])\n",
        "    print(f\"{i}: {count}\")"
      ]
    }
  ],
  "metadata": {
    "colab": {
      "authorship_tag": "ABX9TyNRqI+OupWFdb6WBqnamliy",
      "include_colab_link": true,
      "provenance": []
    },
    "kernelspec": {
      "display_name": "Python 3",
      "name": "python3"
    },
    "language_info": {
      "name": "python"
    }
  },
  "nbformat": 4,
  "nbformat_minor": 0
}
