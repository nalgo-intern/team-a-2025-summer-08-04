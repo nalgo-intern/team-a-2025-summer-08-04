{
  "cells": [
    {
      "cell_type": "markdown",
      "metadata": {
        "colab_type": "text",
        "id": "view-in-github"
      },
      "source": [
        "<a href=\"https://colab.research.google.com/github/nalgo-intern/team-a-2025-summer-08-04/blob/main/double_digits.ipynb\" target=\"_parent\"><img src=\"https://colab.research.google.com/assets/colab-badge.svg\" alt=\"Open In Colab\"/></a>"
      ]
    },
    {
      "cell_type": "code",
      "execution_count": null,
      "metadata": {
        "id": "kTssib-FuWB7"
      },
      "outputs": [],
      "source": [
        "from tensorflow.keras.datasets import mnist\n",
        "import numpy as np\n",
        "from scipy.ndimage import zoom\n",
        "\n",
        "def make_double_images(images, labels, num_samples):\n",
        "    double_images = []\n",
        "    double_labels = []\n",
        "\n",
        "    for _ in range(num_samples):\n",
        "        idx = np.random.randint(0, len(images))\n",
        "\n",
        "        img = images[idx]\n",
        "\n",
        "        resized = zoom(img, (1.0, 0.5))              # 横を0.5倍にして28x14に\n",
        "        resized = resized / 255.0                         # 正規化\n",
        "\n",
        "        double_images.append(resized)\n",
        "        double_labels.append(labels[idx])\n",
        "\n",
        "    return np.array(double_images), np.array(double_labels)\n",
        "\n",
        "def load_double_data(num_train_samples=40000, num_test_samples=10000):\n",
        "    (x_train, y_train), (x_test, y_test) = mnist.load_data()\n",
        "\n",
        "    x_train, y_train = make_double_images(x_train, y_train, num_train_samples)\n",
        "    x_test, y_test = make_double_images(x_test, y_test, num_test_samples)\n",
        "\n",
        "    return (x_train, y_train), (x_test, y_test)\n",
        "\n",
        "from PIL import Image\n",
        "import base64\n",
        "import io\n",
        "\n",
        "def preprocess_image(base64_str):\n",
        "    \"\"\"\n",
        "    base64形式の画像を受け取り、28x28のグレースケール画像に変換して\n",
        "    モデルに渡せるNumPy配列にして返す。\n",
        "    \"\"\"\n",
        "    # base64文字列のうち、\"data:image/png;base64,...\" の部分をカット\n",
        "    base64_data = base64_str.split(',')[1]\n",
        "\n",
        "    # base64をバイナリにデコード\n",
        "    image_data = base64.b64decode(base64_data)\n",
        "\n",
        "    # PILで画像読み込み（グレースケール）→ リサイズ\n",
        "    image = Image.open(io.BytesIO(image_data)).convert('L')  # 'L'はグレースケール\n",
        "    image = image.resize((28, 28))  # モデルが28x28を期待している場合\n",
        "\n",
        "    # 画像をNumPy配列に変換（値を0～1に正規化）\n",
        "    image_array = np.array(image)\n",
        "    image_array = image_array / 255.0\n",
        "    image_array = image_array.reshape(1, 28, 28, 1)  # CNN用に形を整える\n",
        "\n",
        "    return image_array\n"
      ]
    }
  ],
  "metadata": {
    "colab": {
      "authorship_tag": "ABX9TyNRqI+OupWFdb6WBqnamliy",
      "include_colab_link": true,
      "provenance": []
    },
    "kernelspec": {
      "display_name": "Python 3",
      "name": "python3"
    },
    "language_info": {
      "name": "python"
    }
  },
  "nbformat": 4,
  "nbformat_minor": 0
}
