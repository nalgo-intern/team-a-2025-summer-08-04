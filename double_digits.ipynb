{
  "nbformat": 4,
  "nbformat_minor": 0,
  "metadata": {
    "colab": {
      "provenance": [],
      "authorship_tag": "ABX9TyNRqI+OupWFdb6WBqnamliy",
      "include_colab_link": true
    },
    "kernelspec": {
      "name": "python3",
      "display_name": "Python 3"
    },
    "language_info": {
      "name": "python"
    }
  },
  "cells": [
    {
      "cell_type": "markdown",
      "metadata": {
        "id": "view-in-github",
        "colab_type": "text"
      },
      "source": [
        "<a href=\"https://colab.research.google.com/github/nalgo-intern/team-a-2025-summer-08-04/blob/main/double_digits.ipynb\" target=\"_parent\"><img src=\"https://colab.research.google.com/assets/colab-badge.svg\" alt=\"Open In Colab\"/></a>"
      ]
    },
    {
      "cell_type": "code",
      "execution_count": 4,
      "metadata": {
        "id": "kTssib-FuWB7"
      },
      "outputs": [],
      "source": [
        "from tensorflow.keras.datasets import mnist\n",
        "import numpy as np\n",
        "from scipy.ndimage import zoom\n",
        "\n",
        "def load_double_data(num_samples=100000):\n",
        "    (x_train, y_train), _ = mnist.load_data()\n",
        "    x_train = x_train[:num_samples]\n",
        "    y_train = y_train[:num_samples]\n",
        "\n",
        "    double_images = []\n",
        "    double_labels = []\n",
        "\n",
        "    for i in range(num_samples):\n",
        "        # 2つの画像とラベルを選択\n",
        "        idx1 = np.random.randint(0, len(x_train))\n",
        "        idx2 = np.random.randint(0, len(x_train))\n",
        "\n",
        "        img1 = x_train[idx1]\n",
        "        img2 = x_train[idx2]\n",
        "\n",
        "        # 横に連結（28x56）\n",
        "        combined = np.concatenate([img1, img2], axis=1)\n",
        "\n",
        "        # 横方向に0.5倍リサイズ（28x28に圧縮）\n",
        "        resized = zoom(combined, (1.0, 0.5))  # 縦はそのまま、横だけ0.5倍\n",
        "\n",
        "        # 0～1に正規化\n",
        "        resized = resized / 255.0\n",
        "\n",
        "        double_images.append(resized)\n",
        "        double_labels.append([y_train[idx1], y_train[idx2]])\n",
        "\n",
        "    return (np.array(double_images), np.array(double_labels)), None"
      ]
    },
    {
      "cell_type": "code",
      "source": [
        "# import matplotlib.pyplot as plt\n",
        "\n",
        "# if __name__ == \"__main__\":\n",
        "#     # データを表示（ここでは5個だけ確認）\n",
        "#     (x_train, y_train), _ = load_data(num_samples=5)\n",
        "\n",
        "#     for i in range(5):\n",
        "#         img = x_train[i]\n",
        "#         label = y_train[i]\n",
        "\n",
        "#         plt.imshow(img, cmap=\"gray\")\n",
        "#         plt.title(f\"Label: {label[0]}{label[1]} → [{label[0]}, {label[1]}]\")\n",
        "#         plt.axis(\"off\")\n",
        "#         plt.show()"
      ],
      "metadata": {
        "id": "6lMc9E5VF_t1"
      },
      "execution_count": null,
      "outputs": []
    },
    {
      "cell_type": "code",
      "source": [
        "(x_train, y_train), _ = load_double_data()"
      ],
      "metadata": {
        "id": "TZmYML9EOgJP",
        "colab": {
          "base_uri": "https://localhost:8080/"
        },
        "outputId": "f84df060-493c-497e-940a-2ce6cc3cc423"
      },
      "execution_count": 5,
      "outputs": [
        {
          "output_type": "stream",
          "name": "stdout",
          "text": [
            "Downloading data from https://storage.googleapis.com/tensorflow/tf-keras-datasets/mnist.npz\n",
            "\u001b[1m11490434/11490434\u001b[0m \u001b[32m━━━━━━━━━━━━━━━━━━━━\u001b[0m\u001b[37m\u001b[0m \u001b[1m0s\u001b[0m 0us/step\n"
          ]
        }
      ]
    },
    {
      "cell_type": "code",
      "source": [
        "# 各数字の割合を確認してみる\n",
        "for i in range(10):\n",
        "    for j in range(10):\n",
        "        mask = (y_train[:, 0] == i) & (y_train[:, 1] == j)\n",
        "        length = len(y_train[mask])\n",
        "        print(f\"{i}{j}: {length}\")"
      ],
      "metadata": {
        "colab": {
          "base_uri": "https://localhost:8080/"
        },
        "id": "w5gFMOX_JhwN",
        "outputId": "80c00f85-ebcf-4c41-ff76-900edc1065f4"
      },
      "execution_count": 6,
      "outputs": [
        {
          "output_type": "stream",
          "name": "stdout",
          "text": [
            "00: 1002\n",
            "01: 1179\n",
            "02: 960\n",
            "03: 1060\n",
            "04: 914\n",
            "05: 863\n",
            "06: 1011\n",
            "07: 985\n",
            "08: 999\n",
            "09: 961\n",
            "10: 1154\n",
            "11: 1306\n",
            "12: 1078\n",
            "13: 1165\n",
            "14: 1123\n",
            "15: 1016\n",
            "16: 1146\n",
            "17: 1129\n",
            "18: 1126\n",
            "19: 1066\n",
            "20: 964\n",
            "21: 1098\n",
            "22: 980\n",
            "23: 996\n",
            "24: 976\n",
            "25: 886\n",
            "26: 941\n",
            "27: 1008\n",
            "28: 982\n",
            "29: 1009\n",
            "30: 1008\n",
            "31: 1174\n",
            "32: 999\n",
            "33: 1010\n",
            "34: 994\n",
            "35: 945\n",
            "36: 1026\n",
            "37: 1069\n",
            "38: 956\n",
            "39: 1035\n",
            "40: 889\n",
            "41: 1076\n",
            "42: 933\n",
            "43: 1038\n",
            "44: 917\n",
            "45: 857\n",
            "46: 1009\n",
            "47: 1012\n",
            "48: 971\n",
            "49: 964\n",
            "50: 900\n",
            "51: 1022\n",
            "52: 923\n",
            "53: 908\n",
            "54: 837\n",
            "55: 843\n",
            "56: 928\n",
            "57: 933\n",
            "58: 894\n",
            "59: 879\n",
            "60: 996\n",
            "61: 1087\n",
            "62: 965\n",
            "63: 977\n",
            "64: 1019\n",
            "65: 905\n",
            "66: 1000\n",
            "67: 1104\n",
            "68: 974\n",
            "69: 967\n",
            "70: 1039\n",
            "71: 1199\n",
            "72: 1026\n",
            "73: 1088\n",
            "74: 982\n",
            "75: 956\n",
            "76: 1075\n",
            "77: 1044\n",
            "78: 1006\n",
            "79: 1018\n",
            "80: 938\n",
            "81: 1094\n",
            "82: 1010\n",
            "83: 953\n",
            "84: 926\n",
            "85: 830\n",
            "86: 886\n",
            "87: 1070\n",
            "88: 990\n",
            "89: 902\n",
            "90: 1001\n",
            "91: 1137\n",
            "92: 1000\n",
            "93: 987\n",
            "94: 961\n",
            "95: 959\n",
            "96: 950\n",
            "97: 1040\n",
            "98: 928\n",
            "99: 979\n"
          ]
        }
      ]
    }
  ]
}